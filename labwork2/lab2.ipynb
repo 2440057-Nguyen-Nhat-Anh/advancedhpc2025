{
 "cells": [
  {
   "cell_type": "code",
   "execution_count": 1,
   "id": "faa2687b",
   "metadata": {},
   "outputs": [
    {
     "name": "stdout",
     "output_type": "stream",
     "text": [
      "Gpu is not available\n"
     ]
    }
   ],
   "source": [
    "import numba.cuda as cuda\n",
    "\n",
    "cores_per_sm_map = {\n",
    "    (2,0) : 32,\n",
    "    (2,1) : 48,\n",
    "    (3,0) : 192,\n",
    "    (3,5) : 192,\n",
    "    (3,7) : 192,\n",
    "    (5,0) : 128,\n",
    "    (5,2) : 128,\n",
    "    (6,0) : 64,\n",
    "    (6,1) : 128,\n",
    "    (7,0) : 64,\n",
    "    (7,5) : 64,\n",
    "    (8,0) : 64,\n",
    "    (8,6) : 128,\n",
    "    (8,9) : 128,\n",
    "    (9,0) : 128,\n",
    "    (10,0) : 128,\n",
    "    (12,0) : 128\n",
    "}\n",
    "\n",
    "if not cuda.is_available():\n",
    "    print(\"Gpu is not available\")\n",
    "else:\n",
    "    devices = cuda.gpus\n",
    "    print(f\"Found {len(devices)} gpu(s)\")\n",
    "\n",
    "    for i, device in enumerate(devices):\n",
    "        print(f\"\\nDevice {i}: {device.name.decode('utf-8')}\")\n",
    "        print(f\"  Multiprocessor Count: {device.MULTIPROCESSOR_COUNT}\")\n",
    "\n",
    "        major, minor = device.compute_capability\n",
    "        cores_per_sm = cores_per_sm_map.get(major, minor)\n",
    "        total_cores = device.MULTIPROCESSOR_COUNT * cores_per_sm\n",
    "\n",
    "        print(f\"  Compute Capability: {major}.{minor}\")\n",
    "        print(f\"  CUDA Cores: {total_cores} ({cores_per_sm} per SM)\")\n",
    "\n",
    "        with device:\n",
    "            free_bytes, total_bytes = cuda.current_context().get_memory_info()\n",
    "            print(f\"  Total Global Memory: {total_bytes} bytes, {total_bytes / (1024**3):.2f} GB\")\n",
    "            print(f\"  Free Global Memory: {free_bytes} bytes, {free_bytes / (1024**3):.2f} GB\")\n"
   ]
  }
 ],
 "metadata": {
  "kernelspec": {
   "display_name": "hpc",
   "language": "python",
   "name": "python3"
  },
  "language_info": {
   "codemirror_mode": {
    "name": "ipython",
    "version": 3
   },
   "file_extension": ".py",
   "mimetype": "text/x-python",
   "name": "python",
   "nbconvert_exporter": "python",
   "pygments_lexer": "ipython3",
   "version": "3.11.13"
  }
 },
 "nbformat": 4,
 "nbformat_minor": 5
}
